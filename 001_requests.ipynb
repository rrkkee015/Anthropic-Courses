{
 "cells": [
  {
   "cell_type": "code",
   "execution_count": 1,
   "id": "5da44e71-44ae-4509-b4fb-f2ecac2f37cf",
   "metadata": {
    "scrolled": true
   },
   "outputs": [
    {
     "name": "stdout",
     "output_type": "stream",
     "text": [
      "Collecting openai\n",
      "  Downloading openai-1.99.6-py3-none-any.whl.metadata (29 kB)\n",
      "Requirement already satisfied: python-dotenv in ./venv/lib/python3.12/site-packages (1.1.1)\n",
      "Requirement already satisfied: anyio<5,>=3.5.0 in ./venv/lib/python3.12/site-packages (from openai) (4.10.0)\n",
      "Requirement already satisfied: distro<2,>=1.7.0 in ./venv/lib/python3.12/site-packages (from openai) (1.9.0)\n",
      "Requirement already satisfied: httpx<1,>=0.23.0 in ./venv/lib/python3.12/site-packages (from openai) (0.28.1)\n",
      "Requirement already satisfied: jiter<1,>=0.4.0 in ./venv/lib/python3.12/site-packages (from openai) (0.10.0)\n",
      "Requirement already satisfied: pydantic<3,>=1.9.0 in ./venv/lib/python3.12/site-packages (from openai) (2.11.7)\n",
      "Requirement already satisfied: sniffio in ./venv/lib/python3.12/site-packages (from openai) (1.3.1)\n",
      "Collecting tqdm>4 (from openai)\n",
      "  Using cached tqdm-4.67.1-py3-none-any.whl.metadata (57 kB)\n",
      "Requirement already satisfied: typing-extensions<5,>=4.11 in ./venv/lib/python3.12/site-packages (from openai) (4.14.1)\n",
      "Requirement already satisfied: idna>=2.8 in ./venv/lib/python3.12/site-packages (from anyio<5,>=3.5.0->openai) (3.10)\n",
      "Requirement already satisfied: certifi in ./venv/lib/python3.12/site-packages (from httpx<1,>=0.23.0->openai) (2025.8.3)\n",
      "Requirement already satisfied: httpcore==1.* in ./venv/lib/python3.12/site-packages (from httpx<1,>=0.23.0->openai) (1.0.9)\n",
      "Requirement already satisfied: h11>=0.16 in ./venv/lib/python3.12/site-packages (from httpcore==1.*->httpx<1,>=0.23.0->openai) (0.16.0)\n",
      "Requirement already satisfied: annotated-types>=0.6.0 in ./venv/lib/python3.12/site-packages (from pydantic<3,>=1.9.0->openai) (0.7.0)\n",
      "Requirement already satisfied: pydantic-core==2.33.2 in ./venv/lib/python3.12/site-packages (from pydantic<3,>=1.9.0->openai) (2.33.2)\n",
      "Requirement already satisfied: typing-inspection>=0.4.0 in ./venv/lib/python3.12/site-packages (from pydantic<3,>=1.9.0->openai) (0.4.1)\n",
      "Downloading openai-1.99.6-py3-none-any.whl (786 kB)\n",
      "\u001b[2K   \u001b[38;2;114;156;31m━━━━━━━━━━━━━━━━━━━━━━━━━━━━━━━━━━━━━━━━\u001b[0m \u001b[32m786.3/786.3 kB\u001b[0m \u001b[31m20.5 MB/s\u001b[0m eta \u001b[36m0:00:00\u001b[0m\n",
      "\u001b[?25hUsing cached tqdm-4.67.1-py3-none-any.whl (78 kB)\n",
      "Installing collected packages: tqdm, openai\n",
      "Successfully installed openai-1.99.6 tqdm-4.67.1\n",
      "\n",
      "\u001b[1m[\u001b[0m\u001b[34;49mnotice\u001b[0m\u001b[1;39;49m]\u001b[0m\u001b[39;49m A new release of pip is available: \u001b[0m\u001b[31;49m25.0.1\u001b[0m\u001b[39;49m -> \u001b[0m\u001b[32;49m25.2\u001b[0m\n",
      "\u001b[1m[\u001b[0m\u001b[34;49mnotice\u001b[0m\u001b[1;39;49m]\u001b[0m\u001b[39;49m To update, run: \u001b[0m\u001b[32;49mpip install --upgrade pip\u001b[0m\n",
      "Note: you may need to restart the kernel to use updated packages.\n"
     ]
    }
   ],
   "source": [
    "# Install dependencies\n",
    "%pip install openai python-dotenv"
   ]
  },
  {
   "cell_type": "code",
   "execution_count": 2,
   "id": "adf9150f-8423-4769-a9f1-835f95512902",
   "metadata": {},
   "outputs": [
    {
     "data": {
      "text/plain": [
       "True"
      ]
     },
     "execution_count": 2,
     "metadata": {},
     "output_type": "execute_result"
    }
   ],
   "source": [
    "# Load env variables\n",
    "from dotenv import load_dotenv\n",
    "\n",
    "load_dotenv()"
   ]
  },
  {
   "cell_type": "code",
   "execution_count": 3,
   "id": "c38b186c-9721-47e9-958e-4302da369f57",
   "metadata": {},
   "outputs": [],
   "source": [
    "# Create an API Client\n",
    "from openai import OpenAI\n",
    "\n",
    "client = OpenAI()\n",
    "model = \"gpt-5\""
   ]
  },
  {
   "cell_type": "code",
   "execution_count": 4,
   "id": "b8cf7950-634d-4cbe-b01d-48747de1d596",
   "metadata": {},
   "outputs": [],
   "source": [
    "# Make a request\n",
    "message = client.responses.create(\n",
    "    model=model,\n",
    "    input=\"Write a short bedtime story about a unicorn.\"\n",
    ")"
   ]
  },
  {
   "cell_type": "code",
   "execution_count": 12,
   "id": "aa34818e-44d2-4282-b808-e827c43956c8",
   "metadata": {},
   "outputs": [
    {
     "name": "stderr",
     "output_type": "stream",
     "text": [
      "/var/folders/b2/m8cwbcbd68xf5l52sv5jh_gr0000gq/T/ipykernel_59067/2660729195.py:1: PydanticDeprecatedSince20: The `json` method is deprecated; use `model_dump_json` instead. Deprecated in Pydantic V2.0 to be removed in V3.0. See Pydantic V2 Migration Guide at https://errors.pydantic.dev/2.11/migration/\n",
      "  message.json()\n"
     ]
    },
    {
     "data": {
      "text/plain": [
       "'{\"id\":\"resp_6898428c30a081949104a4e04ecee0d707784552afa04aaa\",\"created_at\":1754808972.0,\"error\":null,\"incomplete_details\":null,\"instructions\":null,\"metadata\":{},\"model\":\"gpt-5-2025-08-07\",\"object\":\"response\",\"output\":[{\"id\":\"rs_6898428d2e408194bbe98f9f1cede30407784552afa04aaa\",\"summary\":[],\"type\":\"reasoning\",\"content\":null,\"encrypted_content\":null,\"status\":null},{\"id\":\"msg_68984298ad5c8194a81107bc2068de2607784552afa04aaa\",\"content\":[{\"annotations\":[],\"text\":\"In a meadow where twilight pooled like a quiet lake, there lived a small unicorn named Lumen. Her mane held the color of moonlight on snow, and her hooves made no more sound than a moth’s wingbeat. Each evening, as the sky buttoned itself with the first shy stars, Lumen walked the familiar path between whispering grasses and drowsy clover.\\\\n\\\\nOn this night, she heard a faint, glassy ting nestled in the reeds. Peering gently between the cattails, she found a tiny star, tumbled from the sky and tangled in a braid of river grass. It flickered nervously, throwing soft sparks that lit the water with little rings of light.\\\\n\\\\n“Hush,” Lumen murmured, lowering her shining horn. “You’re safe.”\\\\n\\\\nAn old owl drifted down to watch, blinking like a grandfather clock. Fireflies gathered, their lantern bellies glowing, and the brook offered a cool sip of song. Lumen dipped a leaf in pearly dew and, with careful circles, polished the little star until its glow grew steady and warm.\\\\n\\\\n“Home is up,” the owl whispered.\\\\n\\\\nLumen nodded. She touched her horn to the air, drawing out a silver thread of light. It trembled, then stretched, a soft ladder rising into the dark. The star rested against her cheek—warm as a held hand—before it hopped onto the thread and climbed, step by shining step, back to its place. When it reached the roof of the world, it nestled in, bright and content, and sent down a promise of gentle light for those below.\\\\n\\\\nThe meadow sighed in relief. The reeds folded their hands. The fireflies dimmed to a drowse. Lumen tucked herself beneath the willow, where leaves fell like quiet wishes, and let the cool night comb her mane. Over her, the mended sky glowed, and the little star kept watch, casting a silvery path across the grass for dreams to follow.\\\\n\\\\nThe wind slowed. The world softened. And as Lumen closed her eyes, the night drew its velvet blanket close, and everything settled into a peaceful, shining sleep.\",\"type\":\"output_text\",\"logprobs\":[]}],\"role\":\"assistant\",\"status\":\"completed\",\"type\":\"message\"}],\"parallel_tool_calls\":true,\"temperature\":1.0,\"tool_choice\":\"auto\",\"tools\":[],\"top_p\":1.0,\"background\":false,\"max_output_tokens\":null,\"max_tool_calls\":null,\"previous_response_id\":null,\"prompt\":null,\"prompt_cache_key\":null,\"reasoning\":{\"effort\":\"medium\",\"generate_summary\":null,\"summary\":null},\"safety_identifier\":null,\"service_tier\":\"default\",\"status\":\"completed\",\"text\":{\"format\":{\"type\":\"text\"},\"verbosity\":\"medium\"},\"top_logprobs\":0,\"truncation\":\"disabled\",\"usage\":{\"input_tokens\":15,\"input_tokens_details\":{\"cached_tokens\":0},\"output_tokens\":1211,\"output_tokens_details\":{\"reasoning_tokens\":768},\"total_tokens\":1226},\"user\":null,\"store\":true}'"
      ]
     },
     "execution_count": 12,
     "metadata": {},
     "output_type": "execute_result"
    }
   ],
   "source": [
    "message.json()"
   ]
  },
  {
   "cell_type": "code",
   "execution_count": null,
   "id": "3f74130c-0e47-40a9-b063-c507ba687144",
   "metadata": {},
   "outputs": [],
   "source": []
  }
 ],
 "metadata": {
  "kernelspec": {
   "display_name": "Python 3 (ipykernel)",
   "language": "python",
   "name": "python3"
  },
  "language_info": {
   "codemirror_mode": {
    "name": "ipython",
    "version": 3
   },
   "file_extension": ".py",
   "mimetype": "text/x-python",
   "name": "python",
   "nbconvert_exporter": "python",
   "pygments_lexer": "ipython3",
   "version": "3.12.10"
  }
 },
 "nbformat": 4,
 "nbformat_minor": 5
}
